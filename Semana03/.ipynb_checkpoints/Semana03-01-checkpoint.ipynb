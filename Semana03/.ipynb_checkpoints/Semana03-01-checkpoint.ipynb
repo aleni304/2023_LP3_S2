{
 "cells": [
  {
   "cell_type": "markdown",
   "id": "b1882525",
   "metadata": {},
   "source": [
    "# Semana 03\n",
    "Alexia Asunción Pomasonco"
   ]
  },
  {
   "cell_type": "raw",
   "id": "d8443ece",
   "metadata": {},
   "source": [
    "Temas:\n",
    "    1. Números\n",
    "    2. Variables\n",
    "    3. Manejo de cadenas\n",
    "    4. Ingreso de datos por teclado\n",
    "    5. Operadores"
   ]
  },
  {
   "cell_type": "code",
   "execution_count": 1,
   "id": "d931ac9b",
   "metadata": {},
   "outputs": [
    {
     "data": {
      "text/plain": [
       "14"
      ]
     },
     "execution_count": 1,
     "metadata": {},
     "output_type": "execute_result"
    }
   ],
   "source": [
    "9+5"
   ]
  },
  {
   "cell_type": "code",
   "execution_count": 2,
   "id": "aac29276",
   "metadata": {},
   "outputs": [
    {
     "data": {
      "text/plain": [
       "52"
      ]
     },
     "execution_count": 2,
     "metadata": {},
     "output_type": "execute_result"
    }
   ],
   "source": [
    "100-48"
   ]
  },
  {
   "cell_type": "code",
   "execution_count": 3,
   "id": "dedf5c4a",
   "metadata": {},
   "outputs": [
    {
     "data": {
      "text/plain": [
       "174270"
      ]
     },
     "execution_count": 3,
     "metadata": {},
     "output_type": "execute_result"
    }
   ],
   "source": [
    "74*2355"
   ]
  },
  {
   "cell_type": "code",
   "execution_count": 4,
   "id": "aa881a21",
   "metadata": {},
   "outputs": [
    {
     "data": {
      "text/plain": [
       "4.640287769784172"
      ]
     },
     "execution_count": 4,
     "metadata": {},
     "output_type": "execute_result"
    }
   ],
   "source": [
    "2580/556"
   ]
  },
  {
   "cell_type": "code",
   "execution_count": 5,
   "id": "23d5998f",
   "metadata": {},
   "outputs": [
    {
     "data": {
      "text/plain": [
       "3.0"
      ]
     },
     "execution_count": 5,
     "metadata": {},
     "output_type": "execute_result"
    }
   ],
   "source": [
    "9/3"
   ]
  }
 ],
 "metadata": {
  "kernelspec": {
   "display_name": "Python 3 (ipykernel)",
   "language": "python",
   "name": "python3"
  },
  "language_info": {
   "codemirror_mode": {
    "name": "ipython",
    "version": 3
   },
   "file_extension": ".py",
   "mimetype": "text/x-python",
   "name": "python",
   "nbconvert_exporter": "python",
   "pygments_lexer": "ipython3",
   "version": "3.9.13"
  }
 },
 "nbformat": 4,
 "nbformat_minor": 5
}
