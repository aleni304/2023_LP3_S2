{
 "cells": [
  {
   "cell_type": "markdown",
   "id": "0174b044",
   "metadata": {},
   "source": [
    "# Semana 05"
   ]
  },
  {
   "cell_type": "markdown",
   "id": "5aee613b",
   "metadata": {},
   "source": [
    "Alexia Asunción Pomasonco"
   ]
  },
  {
   "cell_type": "raw",
   "id": "cc9e1a69",
   "metadata": {},
   "source": [
    "Temas:\n",
    "    1. Estructuras decisivas\n",
    "    2. Clases y objetos\n",
    "    3. Funciones"
   ]
  },
  {
   "cell_type": "markdown",
   "id": "7d66dd8b",
   "metadata": {},
   "source": [
    "1. Estructuras decisivas"
   ]
  },
  {
   "cell_type": "code",
   "execution_count": 1,
   "id": "3381025e",
   "metadata": {},
   "outputs": [],
   "source": [
    "#2.1. Estructuras decisivas (if, elif, else)"
   ]
  },
  {
   "cell_type": "code",
   "execution_count": 2,
   "id": "1b896486",
   "metadata": {},
   "outputs": [],
   "source": [
    "#if\n",
    "#Problema: Dado el precio de 3 productos ingresados por teclado, aplicar un descuento del 10% si la\n",
    "#venta es mayor o igual a 1000"
   ]
  },
  {
   "cell_type": "code",
   "execution_count": 3,
   "id": "f5c37feb",
   "metadata": {},
   "outputs": [
    {
     "name": "stdout",
     "output_type": "stream",
     "text": [
      "Producto 1: 455.9\n",
      "Producto 1: 4200\n",
      "Producto 1: 25\n",
      "El total a pagar es: 4212.8099999999995\n"
     ]
    }
   ],
   "source": [
    "#Solución\n",
    "p1 = float(input(\"Producto 1: \"))\n",
    "p2 = float(input(\"Producto 1: \"))\n",
    "p3 = float(input(\"Producto 1: \"))\n",
    "total = p1 + p2 + p3\n",
    "if total > 1000:\n",
    "    total *= 0.9\n",
    "print(f\"El total a pagar es: {total}\")"
   ]
  },
  {
   "cell_type": "code",
   "execution_count": 4,
   "id": "ddcbc78f",
   "metadata": {},
   "outputs": [],
   "source": [
    "#if-else"
   ]
  },
  {
   "cell_type": "code",
   "execution_count": 5,
   "id": "7ecf9a79",
   "metadata": {},
   "outputs": [],
   "source": [
    "#Dada una lista de [ASUNCION, AYQUIPA, BARZOLA, CAMAN, CURO, INCA, SAHUMA, TALLEDO, URBISAGATEGUI]\n",
    "#Diseñar un código que muestre el apellido de un estudiante (Ingresado por teclado) forma parte de la lista"
   ]
  },
  {
   "cell_type": "code",
   "execution_count": 6,
   "id": "b83143e5",
   "metadata": {},
   "outputs": [
    {
     "name": "stdout",
     "output_type": "stream",
     "text": [
      "Ingresa apellido a buscar: LEON\n",
      "No está en la lista de LP3\n"
     ]
    }
   ],
   "source": [
    "#Solución\n",
    "LP3 = [\"ASUNCION\", \"AYQUIPA\", \"BARZOLA\", \"CAMAN\", \"CURO\", \"INCA\", \"SAHUMA\", \"TALLEDO\", \"URBISAGATEGUI\"]\n",
    "apellido = input(\"Ingresa apellido a buscar: \")\n",
    "\n",
    "#Como los datos de la lista están en mayúscula, utilizo upper()\n",
    "if apellido.upper() in LP3:\n",
    "    print(\"Sí está en la lista de LP3\")\n",
    "else:\n",
    "    print(\"No está en la lista de LP3\")"
   ]
  },
  {
   "cell_type": "code",
   "execution_count": 7,
   "id": "cc512f68",
   "metadata": {},
   "outputs": [],
   "source": [
    "#Problema 02\n",
    "#Dado el importe total de ventas realizados por un trabajador (ingresado por teclado),\n",
    "#categorizar que tipo de empleado es, considerando la siguiente tabla:\n",
    "#categoria: A -> [0:1000]\n",
    "#categoria: B -> <1000:2000]\n",
    "#categoria: C -> <2000:5000]\n",
    "#categoria: A -> <5000"
   ]
  },
  {
   "cell_type": "code",
   "execution_count": 9,
   "id": "f1b69792",
   "metadata": {},
   "outputs": [
    {
     "name": "stdout",
     "output_type": "stream",
     "text": [
      "Importe de ventas realizadas: 6000\n",
      "Categoría D\n"
     ]
    }
   ],
   "source": [
    "#Solucion\n",
    "ventas = float(input(\"Importe de ventas realizadas: \"))\n",
    "if ventas < 0:\n",
    "    print(\"Datos erróneos\")\n",
    "else:\n",
    "    if ventas <= 1000:\n",
    "        print(\"Categoría A\")\n",
    "    else:\n",
    "        if ventas <= 2000:\n",
    "            print(\"Categoría B\")\n",
    "        else:\n",
    "            if ventas <= 5000:\n",
    "                print(\"Categoría C\")\n",
    "            else:\n",
    "                print(\"Categoría D\")"
   ]
  },
  {
   "cell_type": "code",
   "execution_count": 10,
   "id": "02ace978",
   "metadata": {},
   "outputs": [],
   "source": [
    "#elif"
   ]
  },
  {
   "cell_type": "code",
   "execution_count": 11,
   "id": "31c738b5",
   "metadata": {},
   "outputs": [],
   "source": [
    "#Problema03: Solucionar el problema anterior utilizando elif\n",
    "#Dado el importe total de ventas realizados por un trabajador (ingresado por teclado),\n",
    "#categorizar que tipo de empleado es, considerando la siguiente tabla:\n",
    "#categoria: A -> [0:1000]\n",
    "#categoria: B -> <1000:2000]\n",
    "#categoria: C -> <2000:5000]\n",
    "#categoria: A -> <5000"
   ]
  },
  {
   "cell_type": "code",
   "execution_count": 12,
   "id": "27d9a24c",
   "metadata": {},
   "outputs": [
    {
     "name": "stdout",
     "output_type": "stream",
     "text": [
      "Importe de ventas realizadas: 80\n",
      "Categoría A\n"
     ]
    }
   ],
   "source": [
    "#Solución\n",
    "ventas = float(input(\"Importe de ventas realizadas: \"))\n",
    "if ventas < 0:\n",
    "    print(\"Datos erróneos\")\n",
    "elif ventas <= 1000:\n",
    "    print(\"Categoría A\")\n",
    "elif ventas <= 2000:\n",
    "    print(\"Categoría B\")\n",
    "elif ventas <= 5000:\n",
    "    print(\"Categoría C\")\n",
    "else:\n",
    "    print(\"Categoría D\")"
   ]
  },
  {
   "cell_type": "code",
   "execution_count": 13,
   "id": "8e775a5c",
   "metadata": {},
   "outputs": [],
   "source": [
    "#2.2 Estructuras repetitivas"
   ]
  },
  {
   "cell_type": "code",
   "execution_count": 14,
   "id": "7e785d60",
   "metadata": {},
   "outputs": [],
   "source": [
    "#for"
   ]
  },
  {
   "cell_type": "code",
   "execution_count": 15,
   "id": "096e6139",
   "metadata": {},
   "outputs": [],
   "source": [
    "#Problema 01:\n",
    "#Mostrar los elementos de una lista utilizando for"
   ]
  },
  {
   "cell_type": "code",
   "execution_count": 16,
   "id": "0f574457",
   "metadata": {},
   "outputs": [
    {
     "name": "stdout",
     "output_type": "stream",
     "text": [
      "Inca\n",
      "Barzola\n",
      "Urbisagastegui\n",
      "Caman\n"
     ]
    }
   ],
   "source": [
    "#Solución\n",
    "aula = [\"Inca\",\"Barzola\",\"Urbisagastegui\",\"Caman\"]\n",
    "\n",
    "#Por cada alumno que está en la lista, imprimir alumno\n",
    "for alumno in aula:\n",
    "    print(alumno)"
   ]
  },
  {
   "cell_type": "code",
   "execution_count": 17,
   "id": "504c7215",
   "metadata": {},
   "outputs": [],
   "source": [
    "#Problema 02:\n",
    "#Dada una cadena ingresada por teclado, mostrar cada caracter de la cadena utilizando for"
   ]
  },
  {
   "cell_type": "code",
   "execution_count": 19,
   "id": "ac590ff3",
   "metadata": {},
   "outputs": [
    {
     "name": "stdout",
     "output_type": "stream",
     "text": [
      "Ingrese cadena: Hola\n",
      "H\n",
      "o\n",
      "l\n",
      "a\n"
     ]
    }
   ],
   "source": [
    "#Solución\n",
    "cadena = input(\"Ingrese cadena: \")\n",
    "for caracter in cadena:\n",
    "    print(caracter)"
   ]
  },
  {
   "cell_type": "code",
   "execution_count": 20,
   "id": "c50777c5",
   "metadata": {},
   "outputs": [
    {
     "data": {
      "text/plain": [
       "range(0, 5)"
      ]
     },
     "execution_count": 20,
     "metadata": {},
     "output_type": "execute_result"
    }
   ],
   "source": [
    "#Para generar rangos de números utilizamos range()\n",
    "range(5)\n",
    "#[0,5>"
   ]
  },
  {
   "cell_type": "code",
   "execution_count": 21,
   "id": "f967ffa4",
   "metadata": {},
   "outputs": [
    {
     "name": "stdout",
     "output_type": "stream",
     "text": [
      "0\n",
      "1\n",
      "2\n",
      "3\n",
      "4\n",
      "5\n",
      "6\n",
      "7\n",
      "8\n",
      "9\n",
      "10\n"
     ]
    }
   ],
   "source": [
    "#Problema 03\n",
    "#Imprimir los números de 0 a 10, utilizando for:\n",
    "for numero in range(11):\n",
    "    print(numero)"
   ]
  },
  {
   "cell_type": "code",
   "execution_count": 1,
   "id": "e9133dfe",
   "metadata": {},
   "outputs": [
    {
     "name": "stdout",
     "output_type": "stream",
     "text": [
      "10\n",
      "12\n",
      "14\n",
      "16\n",
      "18\n",
      "20\n"
     ]
    }
   ],
   "source": [
    "#Problema 04\n",
    "#Imprimir los números de 10 a 20, utilizando for:\n",
    "for numero in range(10,22,2):\n",
    "    print(numero)"
   ]
  },
  {
   "cell_type": "code",
   "execution_count": 2,
   "id": "6296f262",
   "metadata": {},
   "outputs": [],
   "source": [
    "#while"
   ]
  }
 ],
 "metadata": {
  "kernelspec": {
   "display_name": "Python 3 (ipykernel)",
   "language": "python",
   "name": "python3"
  },
  "language_info": {
   "codemirror_mode": {
    "name": "ipython",
    "version": 3
   },
   "file_extension": ".py",
   "mimetype": "text/x-python",
   "name": "python",
   "nbconvert_exporter": "python",
   "pygments_lexer": "ipython3",
   "version": "3.9.13"
  }
 },
 "nbformat": 4,
 "nbformat_minor": 5
}
