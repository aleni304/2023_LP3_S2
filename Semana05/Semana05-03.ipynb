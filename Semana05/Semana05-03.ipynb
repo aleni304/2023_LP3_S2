{
 "cells": [
  {
   "cell_type": "markdown",
   "id": "10d90caf",
   "metadata": {},
   "source": [
    "# Semana 05"
   ]
  },
  {
   "cell_type": "markdown",
   "id": "cf5b5d8a",
   "metadata": {},
   "source": [
    "Alexia Asunción Pomasonco"
   ]
  },
  {
   "cell_type": "raw",
   "id": "817a2939",
   "metadata": {},
   "source": [
    "Temas:\n",
    "    1. Estructuras decisivas\n",
    "    3. Funciones\n",
    "    4. Clases y objetos"
   ]
  },
  {
   "cell_type": "markdown",
   "id": "c3098c5e",
   "metadata": {},
   "source": [
    "4. Clases y objetos"
   ]
  },
  {
   "cell_type": "code",
   "execution_count": 1,
   "id": "40beba7c",
   "metadata": {},
   "outputs": [],
   "source": [
    "#Problema 01\n",
    "#Crear la siguiente clase:\n",
    "# -Clase: Persona\n",
    "# -Atributos: nombre, apellido, fecha_nacimiento, dni"
   ]
  },
  {
   "cell_type": "code",
   "execution_count": 2,
   "id": "a6d2bd64",
   "metadata": {},
   "outputs": [],
   "source": [
    "class Persona:\n",
    "    nombre = \"\"\n",
    "    apellidos = \"\"\n",
    "    dni = \"\"\n",
    "    talla = 0"
   ]
  },
  {
   "cell_type": "code",
   "execution_count": 4,
   "id": "cbf0dbf3",
   "metadata": {},
   "outputs": [],
   "source": [
    "#Creamos un objeto personal de la clase Persona()\n",
    "#y le asignamos valores\n",
    "\n",
    "#Creación del objetos persona1\n",
    "persona1 = Persona()"
   ]
  },
  {
   "cell_type": "code",
   "execution_count": 5,
   "id": "be986551",
   "metadata": {},
   "outputs": [],
   "source": [
    "#Asignamos valores al objeto\n",
    "persona1.nombre = \"Alexia\"\n",
    "persona1.apellidos = \"Asunción Pomasonco\"\n",
    "persona1.dni = \"12345678\"\n",
    "persona1.talla = 1.6"
   ]
  },
  {
   "cell_type": "code",
   "execution_count": 6,
   "id": "2a021934",
   "metadata": {},
   "outputs": [
    {
     "name": "stdout",
     "output_type": "stream",
     "text": [
      "persona1\n",
      "Nombre: Alexia\n",
      "Apellidos: Asunción Pomasonco\n",
      "DNI: 12345678\n",
      "Talla: 1.6\n"
     ]
    }
   ],
   "source": [
    "#Para mostrar valores del objeto:\n",
    "print(\"persona1\")\n",
    "print(f\"Nombre: {persona1.nombre}\")\n",
    "print(f\"Apellidos: {persona1.apellidos}\")\n",
    "print(f\"DNI: {persona1.dni}\")\n",
    "print(f\"Talla: {persona1.talla}\")"
   ]
  },
  {
   "cell_type": "code",
   "execution_count": 7,
   "id": "720c9244",
   "metadata": {},
   "outputs": [],
   "source": [
    "# Para utilizar constructores utilizamos:\n",
    "# ¿Qué es un constructor?\n",
    "# - Es un método\n",
    "# - Sirve para inicializar valores a una clase"
   ]
  },
  {
   "cell_type": "code",
   "execution_count": 8,
   "id": "6fe747b3",
   "metadata": {},
   "outputs": [],
   "source": [
    "#Problema 02:\n",
    "# Crear la siguiente clase y utilizar constructores:\n",
    "# -Clase: Curso\n",
    "# -Atributos: Código, Nombre, Horas, Créditos"
   ]
  },
  {
   "cell_type": "code",
   "execution_count": 10,
   "id": "2931b78b",
   "metadata": {},
   "outputs": [],
   "source": [
    "#Solución:\n",
    "class Curso:\n",
    "    def __init__(self, codigo, nombre, horas, creditos):\n",
    "        self.codigo = codigo\n",
    "        self.nombre = nombre\n",
    "        self.horas = horas\n",
    "        self.creditos = creditos\n",
    "    \n",
    "    def mostrar_datos_curso(self):\n",
    "        print(f\"Curso: {self.nombre}\")\n",
    "        print(f\"Código: {self.codigo}\")\n",
    "        print(f\"Horas: {self.horas}\")\n",
    "        print(f\"Créditos: {self.creditos}\")"
   ]
  },
  {
   "cell_type": "code",
   "execution_count": 11,
   "id": "53f952b0",
   "metadata": {},
   "outputs": [],
   "source": [
    "# Creamos el obejto curso1 y le mandamos parámetros\n",
    "curso1 = Curso(\"C0501\",\"LP3\",6,3)"
   ]
  },
  {
   "cell_type": "code",
   "execution_count": 15,
   "id": "faa73525",
   "metadata": {},
   "outputs": [
    {
     "name": "stdout",
     "output_type": "stream",
     "text": [
      "Curso: LP3\n",
      "Código: C0501\n",
      "Horas: 6\n",
      "Créditos: 3\n"
     ]
    }
   ],
   "source": [
    "# Mostramos los datos completos del curso, ejecutando el método\n",
    "# mostrar_datos_curso()\n",
    "curso1.mostrar_datos_curso()"
   ]
  }
 ],
 "metadata": {
  "kernelspec": {
   "display_name": "Python 3 (ipykernel)",
   "language": "python",
   "name": "python3"
  },
  "language_info": {
   "codemirror_mode": {
    "name": "ipython",
    "version": 3
   },
   "file_extension": ".py",
   "mimetype": "text/x-python",
   "name": "python",
   "nbconvert_exporter": "python",
   "pygments_lexer": "ipython3",
   "version": "3.9.13"
  }
 },
 "nbformat": 4,
 "nbformat_minor": 5
}
