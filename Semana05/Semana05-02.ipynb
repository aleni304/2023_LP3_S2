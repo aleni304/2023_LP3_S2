{
 "cells": [
  {
   "cell_type": "markdown",
   "id": "c61e571f",
   "metadata": {},
   "source": [
    "# Semana 05"
   ]
  },
  {
   "cell_type": "markdown",
   "id": "74400f29",
   "metadata": {},
   "source": [
    "Alexia Asunción Pomasonco"
   ]
  },
  {
   "cell_type": "raw",
   "id": "37434c60",
   "metadata": {},
   "source": [
    "Temas:\n",
    "    1. Estructuras decisivas\n",
    "    2. Clases y objetos\n",
    "    3. Funciones"
   ]
  },
  {
   "cell_type": "markdown",
   "id": "f3ae8fac",
   "metadata": {},
   "source": [
    "3. Funciones"
   ]
  },
  {
   "cell_type": "code",
   "execution_count": 2,
   "id": "b5011d1c",
   "metadata": {},
   "outputs": [],
   "source": [
    "#Para crear un metodo utilizamos: def\n",
    "#Tenemos 4 métodos:\n",
    "# -Método vacios\n",
    "# -Métodos que reciben valores\n",
    "# -Métodos que devuelven un valor\n",
    "# -Métodos que reciben y devuelven valores"
   ]
  },
  {
   "cell_type": "code",
   "execution_count": 3,
   "id": "60df7dab",
   "metadata": {},
   "outputs": [],
   "source": [
    "#3.1 Métodos vacíos\n",
    "#Explicación: No recibe valores (Parámetros)"
   ]
  },
  {
   "cell_type": "code",
   "execution_count": 4,
   "id": "7d9f2fae",
   "metadata": {},
   "outputs": [],
   "source": [
    "def saludo():\n",
    "    print(\"Bienvenidos al curso de LP3\")\n",
    "    print(\"**** Python ****\")"
   ]
  },
  {
   "cell_type": "code",
   "execution_count": 5,
   "id": "552f7790",
   "metadata": {},
   "outputs": [
    {
     "name": "stdout",
     "output_type": "stream",
     "text": [
      "Bienvenidos al curso de LP3\n",
      "**** Python ****\n"
     ]
    }
   ],
   "source": [
    "saludo()"
   ]
  },
  {
   "cell_type": "code",
   "execution_count": 6,
   "id": "af660d2a",
   "metadata": {},
   "outputs": [],
   "source": [
    "#3.2 Métodos que reciben valores\n",
    "def factorial(numero):\n",
    "    fac = 1\n",
    "    for i in range(1, numero+1):\n",
    "        fac *= i\n",
    "        #fac = fac*i\n",
    "    print(f\"El factorial es {fac}\")"
   ]
  },
  {
   "cell_type": "code",
   "execution_count": 7,
   "id": "a98beadb",
   "metadata": {},
   "outputs": [
    {
     "name": "stdout",
     "output_type": "stream",
     "text": [
      "Ingrese número: 4\n",
      "El factorial es 24\n"
     ]
    }
   ],
   "source": [
    "numero = int(input(\"Ingrese número: \"))\n",
    "factorial(numero)"
   ]
  },
  {
   "cell_type": "code",
   "execution_count": 8,
   "id": "3d36f0da",
   "metadata": {},
   "outputs": [],
   "source": [
    "#3.3 Métodos que devuelven un valor\n",
    "def saludo2():\n",
    "    mensaje = \"Bienvenidos a LP3\"\n",
    "    return mensaje"
   ]
  },
  {
   "cell_type": "code",
   "execution_count": 10,
   "id": "749a6837",
   "metadata": {},
   "outputs": [
    {
     "name": "stdout",
     "output_type": "stream",
     "text": [
      "Bienvenidos a LP3\n"
     ]
    }
   ],
   "source": [
    "print(saludo2())"
   ]
  },
  {
   "cell_type": "code",
   "execution_count": 12,
   "id": "1ca5d1d2",
   "metadata": {},
   "outputs": [],
   "source": [
    "#3.4 Métodos que reciben y devuelven valores\n",
    "def factorial2(numero):\n",
    "    fac = 1\n",
    "    for i in range(1, numero+1):\n",
    "        fac *= i\n",
    "        #fac = fac*i\n",
    "    return fac"
   ]
  },
  {
   "cell_type": "code",
   "execution_count": 14,
   "id": "af2902ea",
   "metadata": {},
   "outputs": [
    {
     "name": "stdout",
     "output_type": "stream",
     "text": [
      "Número: 4\n",
      "El factorial de 4 es 24\n"
     ]
    }
   ],
   "source": [
    "numero = int(input(\"Número: \"))\n",
    "print(f\"El factorial de {numero} es {factorial2(numero)}\")"
   ]
  },
  {
   "cell_type": "code",
   "execution_count": 17,
   "id": "6b974a52",
   "metadata": {},
   "outputs": [],
   "source": [
    "#Otro ejemplo\n",
    "#Calcular el IGV\n",
    "def obtenerigv(importe):\n",
    "    return importe*0.18"
   ]
  },
  {
   "cell_type": "code",
   "execution_count": 18,
   "id": "269df4b4",
   "metadata": {},
   "outputs": [
    {
     "data": {
      "text/plain": [
       "27.0"
      ]
     },
     "execution_count": 18,
     "metadata": {},
     "output_type": "execute_result"
    }
   ],
   "source": [
    "obtenerigv(150)"
   ]
  },
  {
   "cell_type": "code",
   "execution_count": 19,
   "id": "1e134fb3",
   "metadata": {},
   "outputs": [
    {
     "data": {
      "text/plain": [
       "140"
      ]
     },
     "execution_count": 19,
     "metadata": {},
     "output_type": "execute_result"
    }
   ],
   "source": [
    "factorial2(5)+20"
   ]
  }
 ],
 "metadata": {
  "kernelspec": {
   "display_name": "Python 3 (ipykernel)",
   "language": "python",
   "name": "python3"
  },
  "language_info": {
   "codemirror_mode": {
    "name": "ipython",
    "version": 3
   },
   "file_extension": ".py",
   "mimetype": "text/x-python",
   "name": "python",
   "nbconvert_exporter": "python",
   "pygments_lexer": "ipython3",
   "version": "3.9.13"
  }
 },
 "nbformat": 4,
 "nbformat_minor": 5
}
