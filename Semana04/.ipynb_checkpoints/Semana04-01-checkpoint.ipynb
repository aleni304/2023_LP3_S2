{
 "cells": [
  {
   "cell_type": "code",
   "execution_count": null,
   "id": "34fec746",
   "metadata": {},
   "outputs": [],
   "source": [
    "1. Colecciones de datos\n",
    "2. Estructuras decisivas y estructuras repetitivas\n",
    "3. Clases y objetos\n",
    "4. Funciones"
   ]
  },
  {
   "cell_type": "code",
   "execution_count": 1,
   "id": "99e60817",
   "metadata": {},
   "outputs": [
    {
     "name": "stdout",
     "output_type": "stream",
     "text": [
      "['ASUNCION', 'AYQUIPA', 'BARZOLA', 'CAMAN']\n"
     ]
    }
   ],
   "source": [
    "#1.1 Listas\n",
    "#Es una colección de elementos que puede ser ordenadas, modificada, etc...\n",
    "#Se identifica por los corchetes\n",
    "#Ejemplo:\n",
    "aula = ['ASUNCION', 'AYQUIPA', 'BARZOLA', 'CAMAN']\n",
    "print(aula)"
   ]
  },
  {
   "cell_type": "code",
   "execution_count": 2,
   "id": "6620038f",
   "metadata": {},
   "outputs": [
    {
     "data": {
      "text/plain": [
       "['ASUNCION', 'AYQUIPA', 'BARZOLA', 'CAMAN']"
      ]
     },
     "execution_count": 2,
     "metadata": {},
     "output_type": "execute_result"
    }
   ],
   "source": [
    "#Tambien se puede imprimir con solo mencionar la lista\n",
    "aula"
   ]
  },
  {
   "cell_type": "code",
   "execution_count": 3,
   "id": "0ea626ee",
   "metadata": {},
   "outputs": [
    {
     "data": {
      "text/plain": [
       "'Chavez'"
      ]
     },
     "execution_count": 3,
     "metadata": {},
     "output_type": "execute_result"
    }
   ],
   "source": [
    "#Puedo asignar un valor a una posicion de la lista\n",
    "aula[1] = 'Chavez'\n",
    "aula[1]"
   ]
  },
  {
   "cell_type": "code",
   "execution_count": 4,
   "id": "fb4bc76d",
   "metadata": {},
   "outputs": [
    {
     "data": {
      "text/plain": [
       "['ASUNCION', 'Chavez', 'BARZOLA', 'CAMAN']"
      ]
     },
     "execution_count": 4,
     "metadata": {},
     "output_type": "execute_result"
    }
   ],
   "source": [
    "#Mostramos como quedó la lista\n",
    "aula"
   ]
  },
  {
   "cell_type": "code",
   "execution_count": 6,
   "id": "da12664c",
   "metadata": {},
   "outputs": [
    {
     "data": {
      "text/plain": [
       "['ASUNCION',\n",
       " 'Chavez',\n",
       " 'BARZOLA',\n",
       " 'CAMAN',\n",
       " 'CURO',\n",
       " 'BARZOLA',\n",
       " 'CURO',\n",
       " 'BARZOLA']"
      ]
     },
     "execution_count": 6,
     "metadata": {},
     "output_type": "execute_result"
    }
   ],
   "source": [
    "#Para agregar un elemento utilizamos append\n",
    "aula.append(\"CURO\")\n",
    "aula.append(\"BARZOLA\")\n",
    "aula"
   ]
  },
  {
   "cell_type": "code",
   "execution_count": 7,
   "id": "98b1f871",
   "metadata": {},
   "outputs": [
    {
     "data": {
      "text/plain": [
       "['Chavez', 'BARZOLA', 'CAMAN', 'CURO', 'BARZOLA', 'CURO', 'BARZOLA']"
      ]
     },
     "execution_count": 7,
     "metadata": {},
     "output_type": "execute_result"
    }
   ],
   "source": [
    "#Para eliminar elementos utilizamos remove()\n",
    "aula.remove(\"ASUNCION\")\n",
    "aula"
   ]
  },
  {
   "cell_type": "code",
   "execution_count": 12,
   "id": "13fd2741",
   "metadata": {},
   "outputs": [
    {
     "data": {
      "text/plain": [
       "['Chavez', 'CAMAN', 'CURO', 'BARZOLA', 'CURO', 'BARZOLA']"
      ]
     },
     "execution_count": 12,
     "metadata": {},
     "output_type": "execute_result"
    }
   ],
   "source": [
    "#Si hubiera varios elementos de valores iguales \n",
    "aula.remove(\"BARZOLA\")\n",
    "aula"
   ]
  },
  {
   "cell_type": "code",
   "execution_count": 11,
   "id": "125dae74",
   "metadata": {},
   "outputs": [
    {
     "data": {
      "text/plain": [
       "7"
      ]
     },
     "execution_count": 11,
     "metadata": {},
     "output_type": "execute_result"
    }
   ],
   "source": [
    "#Pra obtener el tamaño utilizamos len()\n",
    "len(aula)"
   ]
  },
  {
   "cell_type": "code",
   "execution_count": 10,
   "id": "66a8a17b",
   "metadata": {},
   "outputs": [
    {
     "name": "stdout",
     "output_type": "stream",
     "text": [
      "Chavez\n",
      "BARZOLA\n",
      "CAMAN\n",
      "CURO\n",
      "BARZOLA\n",
      "CURO\n",
      "BARZOLA\n"
     ]
    }
   ],
   "source": [
    "#Para recorrer podemos utilizar una estructura repetitiva\n",
    "for alumno in aula:\n",
    "    print(alumno)"
   ]
  },
  {
   "cell_type": "code",
   "execution_count": 13,
   "id": "77fb16ea",
   "metadata": {},
   "outputs": [
    {
     "data": {
      "text/plain": [
       "['BARZOLA', 'CURO', 'BARZOLA', 'CURO', 'CAMAN', 'Chavez']"
      ]
     },
     "execution_count": 13,
     "metadata": {},
     "output_type": "execute_result"
    }
   ],
   "source": [
    "#Para imprimir una lista en orden inverso\n",
    "aula.reverse()\n",
    "aula"
   ]
  },
  {
   "cell_type": "code",
   "execution_count": 15,
   "id": "d6c8606f",
   "metadata": {},
   "outputs": [
    {
     "data": {
      "text/plain": [
       "['BARZOLA', 'BARZOLA', 'CAMAN', 'CURO', 'CURO', 'Chavez']"
      ]
     },
     "execution_count": 15,
     "metadata": {},
     "output_type": "execute_result"
    }
   ],
   "source": [
    "#Para ordenar una lista utilizamos sort()\n",
    "aula.sort()\n",
    "aula"
   ]
  },
  {
   "cell_type": "code",
   "execution_count": 16,
   "id": "90a887da",
   "metadata": {},
   "outputs": [
    {
     "data": {
      "text/plain": [
       "('ASUNCION', 'AYQUIPA', 'BARZOLA', 'CAMAN')"
      ]
     },
     "execution_count": 16,
     "metadata": {},
     "output_type": "execute_result"
    }
   ],
   "source": [
    "#1.2 Tuplas\n",
    "#Es una colección de elementos ordenados (Ordenado significa que tiene un índice) que no se puede modificar, es inalterable\n",
    "#No se pueden agregar elementos ni eliminar\n",
    "#Se identifica por los parentesis\n",
    "tupla_aula = ('ASUNCION', 'AYQUIPA', 'BARZOLA', 'CAMAN')\n",
    "tupla_aula"
   ]
  },
  {
   "cell_type": "code",
   "execution_count": 19,
   "id": "41eeb599",
   "metadata": {},
   "outputs": [
    {
     "name": "stdout",
     "output_type": "stream",
     "text": [
      "ASUNCION\n",
      "AYQUIPA\n",
      "BARZOLA\n",
      "CAMAN\n"
     ]
    }
   ],
   "source": [
    "#Se puede recorrer con una estructura repetitiva\n",
    "#Ejemplo en for\n",
    "for alumno in tupla_aula:\n",
    "    print(alumno)"
   ]
  },
  {
   "cell_type": "code",
   "execution_count": 20,
   "id": "1106e2d8",
   "metadata": {},
   "outputs": [
    {
     "data": {
      "text/plain": [
       "'BARZOLA'"
      ]
     },
     "execution_count": 20,
     "metadata": {},
     "output_type": "execute_result"
    }
   ],
   "source": [
    "#Se puede extraer un elemento por su posicion\n",
    "tupla_aula[2]"
   ]
  },
  {
   "cell_type": "code",
   "execution_count": 21,
   "id": "cb8be717",
   "metadata": {},
   "outputs": [
    {
     "data": {
      "text/plain": [
       "4"
      ]
     },
     "execution_count": 21,
     "metadata": {},
     "output_type": "execute_result"
    }
   ],
   "source": [
    "#Para saber la cantidad de elementos en una tupla utilizamos len()\n",
    "len(tupla_aula)"
   ]
  },
  {
   "cell_type": "code",
   "execution_count": 27,
   "id": "5c60d3eb",
   "metadata": {},
   "outputs": [
    {
     "data": {
      "text/plain": [
       "{'ASUNCION', 'AYQUIPA', 'BARZOLA'}"
      ]
     },
     "execution_count": 27,
     "metadata": {},
     "output_type": "execute_result"
    }
   ],
   "source": [
    "#1.3 Conjuntos\n",
    "#Es una colección de elementos que no está ordenado\n",
    "# (Significa que no tiene un índice)\n",
    "conjunto_aula = {'ASUNCION','AYQUIPA','BARZOLA'}\n",
    "conjunto_aula"
   ]
  },
  {
   "cell_type": "code",
   "execution_count": 23,
   "id": "795c7c16",
   "metadata": {},
   "outputs": [],
   "source": [
    "#OBSERVACIÓN: No se puede acceder por posición pues no considera indexación\n",
    "#Por ejemplo:\n",
    "#conjunto_aula[2]"
   ]
  },
  {
   "cell_type": "code",
   "execution_count": 28,
   "id": "4cfd6b65",
   "metadata": {},
   "outputs": [
    {
     "data": {
      "text/plain": [
       "3"
      ]
     },
     "execution_count": 28,
     "metadata": {},
     "output_type": "execute_result"
    }
   ],
   "source": [
    "#Para saber la cantidad de elementos de un conjunto\n",
    "len(conjunto_aula)"
   ]
  },
  {
   "cell_type": "code",
   "execution_count": 29,
   "id": "46e3548f",
   "metadata": {},
   "outputs": [
    {
     "data": {
      "text/plain": [
       "{'ASUNCION', 'AYQUIPA', 'BARZOLA', 'CAMAN'}"
      ]
     },
     "execution_count": 29,
     "metadata": {},
     "output_type": "execute_result"
    }
   ],
   "source": [
    "#Para agregar elementos al conjunto\n",
    "conjunto_aula.add('CAMAN')\n",
    "conjunto_aula"
   ]
  },
  {
   "cell_type": "code",
   "execution_count": 30,
   "id": "b2f36df8",
   "metadata": {},
   "outputs": [
    {
     "data": {
      "text/plain": [
       "{'ASUNCION', 'BARZOLA', 'CAMAN'}"
      ]
     },
     "execution_count": 30,
     "metadata": {},
     "output_type": "execute_result"
    }
   ],
   "source": [
    "#Para eliminar elementos al conjunto\n",
    "conjunto_aula.remove('AYQUIPA')\n",
    "conjunto_aula"
   ]
  },
  {
   "cell_type": "code",
   "execution_count": 32,
   "id": "d6723bc6",
   "metadata": {},
   "outputs": [
    {
     "data": {
      "text/plain": [
       "{2: 'ASUNCION', 1: 'AYQUIPA', 'dos': 'BARZOLA', '3': 'CAMAN', '0': 'CURO'}"
      ]
     },
     "execution_count": 32,
     "metadata": {},
     "output_type": "execute_result"
    }
   ],
   "source": [
    "#1.4 Diccionarios\n",
    "#Es una colección de elementos, que están indexados, nop están ordenador y se puede modificar\n",
    "#Son escritos entre llaves y están formados por pares de elementos\n",
    "#INDICE:VALOR\n",
    "diccionario_aula = {2:'ASUNCION',1:'AYQUIPA','dos':'BARZOLA','3':'CAMAN','0':'CURO'}\n",
    "diccionario_aula"
   ]
  },
  {
   "cell_type": "code",
   "execution_count": 33,
   "id": "ff1c5761",
   "metadata": {},
   "outputs": [
    {
     "data": {
      "text/plain": [
       "'CURO'"
      ]
     },
     "execution_count": 33,
     "metadata": {},
     "output_type": "execute_result"
    }
   ],
   "source": [
    "#Del diccionario extraer el valor cuyo indice sea cero en String\n",
    "diccionario_aula['0']"
   ]
  },
  {
   "cell_type": "code",
   "execution_count": 34,
   "id": "d932db9e",
   "metadata": {},
   "outputs": [
    {
     "data": {
      "text/plain": [
       "{2: 'ASUNCION',\n",
       " 1: 'AYQUIPA',\n",
       " 'dos': 'BARZOLA',\n",
       " '3': 'CAMAN',\n",
       " '0': 'CURO',\n",
       " '20': 'INCA'}"
      ]
     },
     "execution_count": 34,
     "metadata": {},
     "output_type": "execute_result"
    }
   ],
   "source": [
    "#Para añadir un par de elementos a un diccionario:\n",
    "diccionario_aula['20'] = \"INCA\"\n",
    "diccionario_aula"
   ]
  },
  {
   "cell_type": "code",
   "execution_count": 35,
   "id": "bc6f47bf",
   "metadata": {},
   "outputs": [
    {
     "data": {
      "text/plain": [
       "{1: 'AYQUIPA', 'dos': 'BARZOLA', '3': 'CAMAN', '0': 'CURO', '20': 'INCA'}"
      ]
     },
     "execution_count": 35,
     "metadata": {},
     "output_type": "execute_result"
    }
   ],
   "source": [
    "#Para eliminar un valor se utiliza pop()\n",
    "#Por ejemplo, eliminar el elemento de índice dos\n",
    "diccionario_aula.pop(2)\n",
    "diccionario_aula"
   ]
  },
  {
   "cell_type": "code",
   "execution_count": 36,
   "id": "e2ec533f",
   "metadata": {},
   "outputs": [
    {
     "data": {
      "text/plain": [
       "{1: 'AYQUIPA', '3': 'CAMAN', '0': 'CURO', '20': 'INCA'}"
      ]
     },
     "execution_count": 36,
     "metadata": {},
     "output_type": "execute_result"
    }
   ],
   "source": [
    "#Tambien se puede eliminar con del()\n",
    "del(diccionario_aula[\"dos\"])\n",
    "diccionario_aula"
   ]
  },
  {
   "cell_type": "code",
   "execution_count": 37,
   "id": "024626f5",
   "metadata": {},
   "outputs": [
    {
     "name": "stdout",
     "output_type": "stream",
     "text": [
      "1\n",
      "3\n",
      "0\n",
      "20\n"
     ]
    }
   ],
   "source": [
    "#Para recorrer todos los elementos\n",
    "for indice in diccionario_aula:\n",
    "    print(indice)"
   ]
  },
  {
   "cell_type": "code",
   "execution_count": 38,
   "id": "f304e117",
   "metadata": {},
   "outputs": [
    {
     "name": "stdout",
     "output_type": "stream",
     "text": [
      "1 AYQUIPA\n",
      "3 CAMAN\n",
      "0 CURO\n",
      "20 INCA\n"
     ]
    }
   ],
   "source": [
    "#Para obtener el inidice y valor de cada elmento utilizamos items()\n",
    "for indice, valor in diccionario_aula.items():\n",
    "    print(indice, valor)"
   ]
  },
  {
   "cell_type": "code",
   "execution_count": null,
   "id": "299d13dd",
   "metadata": {},
   "outputs": [],
   "source": [
    "#1.5 Ejercicio\n",
    "#Dado una lista de [ASUNCION, AYQUIPA, BARZOLA, CAMAN, CURO, INCA, SAHUMA, TALLEDO, URBISAGASTEGUI]\n",
    "#Diseñar un codigo que muestre si el apellido "
   ]
  }
 ],
 "metadata": {
  "kernelspec": {
   "display_name": "Python 3 (ipykernel)",
   "language": "python",
   "name": "python3"
  },
  "language_info": {
   "codemirror_mode": {
    "name": "ipython",
    "version": 3
   },
   "file_extension": ".py",
   "mimetype": "text/x-python",
   "name": "python",
   "nbconvert_exporter": "python",
   "pygments_lexer": "ipython3",
   "version": "3.9.13"
  }
 },
 "nbformat": 4,
 "nbformat_minor": 5
}
